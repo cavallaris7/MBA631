{
 "cells": [
  {
   "cell_type": "code",
   "execution_count": 1,
   "metadata": {},
   "outputs": [
    {
     "name": "stdout",
     "output_type": "stream",
     "text": [
      "Populating the interactive namespace from numpy and matplotlib\n"
     ]
    }
   ],
   "source": [
    "import pandas as pd\n",
    "import numpy as np\n",
    "from sklearn.ensemble import RandomForestRegressor\n",
    "from sklearn.model_selection import train_test_split\n",
    "from sklearn.metrics import roc_auc_score\n",
    "%pylab inline"
   ]
  },
  {
   "cell_type": "code",
   "execution_count": 2,
   "metadata": {},
   "outputs": [],
   "source": [
    "X = pd.read_csv(\"/Users/adriancavallaris/Documents/NCAAB_2018_19_data.csv\")"
   ]
  },
  {
   "cell_type": "code",
   "execution_count": 3,
   "metadata": {},
   "outputs": [
    {
     "data": {
      "text/html": [
       "<div>\n",
       "<style scoped>\n",
       "    .dataframe tbody tr th:only-of-type {\n",
       "        vertical-align: middle;\n",
       "    }\n",
       "\n",
       "    .dataframe tbody tr th {\n",
       "        vertical-align: top;\n",
       "    }\n",
       "\n",
       "    .dataframe thead th {\n",
       "        text-align: right;\n",
       "    }\n",
       "</style>\n",
       "<table border=\"1\" class=\"dataframe\">\n",
       "  <thead>\n",
       "    <tr style=\"text-align: right;\">\n",
       "      <th></th>\n",
       "      <th>School</th>\n",
       "      <th>G</th>\n",
       "      <th>W</th>\n",
       "      <th>SRS</th>\n",
       "      <th>SOS</th>\n",
       "      <th>Tm.</th>\n",
       "      <th>Opp.</th>\n",
       "      <th>MP</th>\n",
       "      <th>FG</th>\n",
       "      <th>FGA</th>\n",
       "      <th>...</th>\n",
       "      <th>FT</th>\n",
       "      <th>FTA</th>\n",
       "      <th>FT%</th>\n",
       "      <th>ORB</th>\n",
       "      <th>TRB</th>\n",
       "      <th>AST</th>\n",
       "      <th>STL</th>\n",
       "      <th>BLK</th>\n",
       "      <th>TOV</th>\n",
       "      <th>PF</th>\n",
       "    </tr>\n",
       "  </thead>\n",
       "  <tbody>\n",
       "    <tr>\n",
       "      <th>0</th>\n",
       "      <td>Abilene Christian NCAA</td>\n",
       "      <td>34</td>\n",
       "      <td>27</td>\n",
       "      <td>-1.91</td>\n",
       "      <td>-7.34</td>\n",
       "      <td>2502</td>\n",
       "      <td>2161</td>\n",
       "      <td>1370</td>\n",
       "      <td>897</td>\n",
       "      <td>1911</td>\n",
       "      <td>...</td>\n",
       "      <td>457</td>\n",
       "      <td>642</td>\n",
       "      <td>0.712</td>\n",
       "      <td>325</td>\n",
       "      <td>1110</td>\n",
       "      <td>525</td>\n",
       "      <td>297</td>\n",
       "      <td>93</td>\n",
       "      <td>407</td>\n",
       "      <td>635</td>\n",
       "    </tr>\n",
       "    <tr>\n",
       "      <th>1</th>\n",
       "      <td>Air Force</td>\n",
       "      <td>32</td>\n",
       "      <td>14</td>\n",
       "      <td>-4.28</td>\n",
       "      <td>0.24</td>\n",
       "      <td>2179</td>\n",
       "      <td>2294</td>\n",
       "      <td>1300</td>\n",
       "      <td>802</td>\n",
       "      <td>1776</td>\n",
       "      <td>...</td>\n",
       "      <td>341</td>\n",
       "      <td>503</td>\n",
       "      <td>0.678</td>\n",
       "      <td>253</td>\n",
       "      <td>1077</td>\n",
       "      <td>434</td>\n",
       "      <td>154</td>\n",
       "      <td>57</td>\n",
       "      <td>423</td>\n",
       "      <td>543</td>\n",
       "    </tr>\n",
       "    <tr>\n",
       "      <th>2</th>\n",
       "      <td>Akron</td>\n",
       "      <td>33</td>\n",
       "      <td>17</td>\n",
       "      <td>4.86</td>\n",
       "      <td>1.09</td>\n",
       "      <td>2271</td>\n",
       "      <td>2107</td>\n",
       "      <td>1325</td>\n",
       "      <td>797</td>\n",
       "      <td>1948</td>\n",
       "      <td>...</td>\n",
       "      <td>380</td>\n",
       "      <td>539</td>\n",
       "      <td>0.705</td>\n",
       "      <td>312</td>\n",
       "      <td>1204</td>\n",
       "      <td>399</td>\n",
       "      <td>185</td>\n",
       "      <td>106</td>\n",
       "      <td>388</td>\n",
       "      <td>569</td>\n",
       "    </tr>\n",
       "    <tr>\n",
       "      <th>3</th>\n",
       "      <td>Alabama A&amp;M</td>\n",
       "      <td>32</td>\n",
       "      <td>5</td>\n",
       "      <td>-19.23</td>\n",
       "      <td>-8.38</td>\n",
       "      <td>1938</td>\n",
       "      <td>2285</td>\n",
       "      <td>1295</td>\n",
       "      <td>736</td>\n",
       "      <td>1809</td>\n",
       "      <td>...</td>\n",
       "      <td>284</td>\n",
       "      <td>453</td>\n",
       "      <td>0.627</td>\n",
       "      <td>314</td>\n",
       "      <td>1032</td>\n",
       "      <td>385</td>\n",
       "      <td>234</td>\n",
       "      <td>50</td>\n",
       "      <td>487</td>\n",
       "      <td>587</td>\n",
       "    </tr>\n",
       "    <tr>\n",
       "      <th>4</th>\n",
       "      <td>Alabama-Birmingham</td>\n",
       "      <td>35</td>\n",
       "      <td>20</td>\n",
       "      <td>0.36</td>\n",
       "      <td>-1.52</td>\n",
       "      <td>2470</td>\n",
       "      <td>2370</td>\n",
       "      <td>1410</td>\n",
       "      <td>906</td>\n",
       "      <td>2003</td>\n",
       "      <td>...</td>\n",
       "      <td>424</td>\n",
       "      <td>630</td>\n",
       "      <td>0.673</td>\n",
       "      <td>367</td>\n",
       "      <td>1279</td>\n",
       "      <td>401</td>\n",
       "      <td>218</td>\n",
       "      <td>82</td>\n",
       "      <td>399</td>\n",
       "      <td>578</td>\n",
       "    </tr>\n",
       "  </tbody>\n",
       "</table>\n",
       "<p>5 rows × 24 columns</p>\n",
       "</div>"
      ],
      "text/plain": [
       "                   School   G   W    SRS   SOS   Tm.  Opp.    MP   FG   FGA  \\\n",
       "0  Abilene Christian NCAA  34  27  -1.91 -7.34  2502  2161  1370  897  1911   \n",
       "1               Air Force  32  14  -4.28  0.24  2179  2294  1300  802  1776   \n",
       "2                   Akron  33  17   4.86  1.09  2271  2107  1325  797  1948   \n",
       "3             Alabama A&M  32   5 -19.23 -8.38  1938  2285  1295  736  1809   \n",
       "4      Alabama-Birmingham  35  20   0.36 -1.52  2470  2370  1410  906  2003   \n",
       "\n",
       "   ...   FT  FTA    FT%  ORB   TRB  AST  STL  BLK  TOV   PF  \n",
       "0  ...  457  642  0.712  325  1110  525  297   93  407  635  \n",
       "1  ...  341  503  0.678  253  1077  434  154   57  423  543  \n",
       "2  ...  380  539  0.705  312  1204  399  185  106  388  569  \n",
       "3  ...  284  453  0.627  314  1032  385  234   50  487  587  \n",
       "4  ...  424  630  0.673  367  1279  401  218   82  399  578  \n",
       "\n",
       "[5 rows x 24 columns]"
      ]
     },
     "execution_count": 3,
     "metadata": {},
     "output_type": "execute_result"
    }
   ],
   "source": [
    "X.head()"
   ]
  },
  {
   "cell_type": "code",
   "execution_count": 4,
   "metadata": {},
   "outputs": [
    {
     "data": {
      "text/html": [
       "<div>\n",
       "<style scoped>\n",
       "    .dataframe tbody tr th:only-of-type {\n",
       "        vertical-align: middle;\n",
       "    }\n",
       "\n",
       "    .dataframe tbody tr th {\n",
       "        vertical-align: top;\n",
       "    }\n",
       "\n",
       "    .dataframe thead th {\n",
       "        text-align: right;\n",
       "    }\n",
       "</style>\n",
       "<table border=\"1\" class=\"dataframe\">\n",
       "  <thead>\n",
       "    <tr style=\"text-align: right;\">\n",
       "      <th></th>\n",
       "      <th>G</th>\n",
       "      <th>W</th>\n",
       "      <th>SRS</th>\n",
       "      <th>SOS</th>\n",
       "      <th>Tm.</th>\n",
       "      <th>Opp.</th>\n",
       "      <th>MP</th>\n",
       "      <th>FG</th>\n",
       "      <th>FGA</th>\n",
       "      <th>FG%</th>\n",
       "      <th>...</th>\n",
       "      <th>FT</th>\n",
       "      <th>FTA</th>\n",
       "      <th>FT%</th>\n",
       "      <th>ORB</th>\n",
       "      <th>TRB</th>\n",
       "      <th>AST</th>\n",
       "      <th>STL</th>\n",
       "      <th>BLK</th>\n",
       "      <th>TOV</th>\n",
       "      <th>PF</th>\n",
       "    </tr>\n",
       "  </thead>\n",
       "  <tbody>\n",
       "    <tr>\n",
       "      <th>count</th>\n",
       "      <td>353.000000</td>\n",
       "      <td>353.000000</td>\n",
       "      <td>353.000000</td>\n",
       "      <td>353.000000</td>\n",
       "      <td>353.000000</td>\n",
       "      <td>353.000000</td>\n",
       "      <td>353.000000</td>\n",
       "      <td>353.000000</td>\n",
       "      <td>353.000000</td>\n",
       "      <td>353.000000</td>\n",
       "      <td>...</td>\n",
       "      <td>353.000000</td>\n",
       "      <td>353.000000</td>\n",
       "      <td>353.000000</td>\n",
       "      <td>353.000000</td>\n",
       "      <td>353.000000</td>\n",
       "      <td>353.000000</td>\n",
       "      <td>353.000000</td>\n",
       "      <td>353.000000</td>\n",
       "      <td>353.000000</td>\n",
       "      <td>353.000000</td>\n",
       "    </tr>\n",
       "    <tr>\n",
       "      <th>mean</th>\n",
       "      <td>33.008499</td>\n",
       "      <td>17.118980</td>\n",
       "      <td>-0.591501</td>\n",
       "      <td>-0.267507</td>\n",
       "      <td>2400.121813</td>\n",
       "      <td>2356.668555</td>\n",
       "      <td>1331.798867</td>\n",
       "      <td>848.872521</td>\n",
       "      <td>1914.107649</td>\n",
       "      <td>0.442997</td>\n",
       "      <td>...</td>\n",
       "      <td>446.410765</td>\n",
       "      <td>632.008499</td>\n",
       "      <td>0.706269</td>\n",
       "      <td>329.402266</td>\n",
       "      <td>1169.535411</td>\n",
       "      <td>443.090652</td>\n",
       "      <td>208.937677</td>\n",
       "      <td>110.410765</td>\n",
       "      <td>426.515581</td>\n",
       "      <td>586.087819</td>\n",
       "    </tr>\n",
       "    <tr>\n",
       "      <th>std</th>\n",
       "      <td>1.993580</td>\n",
       "      <td>6.364631</td>\n",
       "      <td>10.320548</td>\n",
       "      <td>5.761562</td>\n",
       "      <td>260.169578</td>\n",
       "      <td>167.525950</td>\n",
       "      <td>80.789477</td>\n",
       "      <td>93.759625</td>\n",
       "      <td>158.127411</td>\n",
       "      <td>0.024408</td>\n",
       "      <td>...</td>\n",
       "      <td>76.118654</td>\n",
       "      <td>103.658105</td>\n",
       "      <td>0.036296</td>\n",
       "      <td>61.538303</td>\n",
       "      <td>121.884607</td>\n",
       "      <td>70.400056</td>\n",
       "      <td>42.418124</td>\n",
       "      <td>33.619167</td>\n",
       "      <td>48.874671</td>\n",
       "      <td>60.263255</td>\n",
       "    </tr>\n",
       "    <tr>\n",
       "      <th>min</th>\n",
       "      <td>28.000000</td>\n",
       "      <td>3.000000</td>\n",
       "      <td>-26.820000</td>\n",
       "      <td>-11.240000</td>\n",
       "      <td>1742.000000</td>\n",
       "      <td>1951.000000</td>\n",
       "      <td>1135.000000</td>\n",
       "      <td>598.000000</td>\n",
       "      <td>1442.000000</td>\n",
       "      <td>0.354000</td>\n",
       "      <td>...</td>\n",
       "      <td>235.000000</td>\n",
       "      <td>377.000000</td>\n",
       "      <td>0.584000</td>\n",
       "      <td>167.000000</td>\n",
       "      <td>845.000000</td>\n",
       "      <td>288.000000</td>\n",
       "      <td>116.000000</td>\n",
       "      <td>46.000000</td>\n",
       "      <td>304.000000</td>\n",
       "      <td>455.000000</td>\n",
       "    </tr>\n",
       "    <tr>\n",
       "      <th>25%</th>\n",
       "      <td>32.000000</td>\n",
       "      <td>12.000000</td>\n",
       "      <td>-8.100000</td>\n",
       "      <td>-4.690000</td>\n",
       "      <td>2216.000000</td>\n",
       "      <td>2243.000000</td>\n",
       "      <td>1280.000000</td>\n",
       "      <td>787.000000</td>\n",
       "      <td>1803.000000</td>\n",
       "      <td>0.428000</td>\n",
       "      <td>...</td>\n",
       "      <td>395.000000</td>\n",
       "      <td>564.000000</td>\n",
       "      <td>0.682000</td>\n",
       "      <td>285.000000</td>\n",
       "      <td>1085.000000</td>\n",
       "      <td>394.000000</td>\n",
       "      <td>180.000000</td>\n",
       "      <td>85.000000</td>\n",
       "      <td>394.000000</td>\n",
       "      <td>544.000000</td>\n",
       "    </tr>\n",
       "    <tr>\n",
       "      <th>50%</th>\n",
       "      <td>33.000000</td>\n",
       "      <td>17.000000</td>\n",
       "      <td>-2.040000</td>\n",
       "      <td>-1.240000</td>\n",
       "      <td>2385.000000</td>\n",
       "      <td>2354.000000</td>\n",
       "      <td>1325.000000</td>\n",
       "      <td>845.000000</td>\n",
       "      <td>1906.000000</td>\n",
       "      <td>0.443000</td>\n",
       "      <td>...</td>\n",
       "      <td>446.000000</td>\n",
       "      <td>628.000000</td>\n",
       "      <td>0.705000</td>\n",
       "      <td>324.000000</td>\n",
       "      <td>1163.000000</td>\n",
       "      <td>440.000000</td>\n",
       "      <td>207.000000</td>\n",
       "      <td>107.000000</td>\n",
       "      <td>423.000000</td>\n",
       "      <td>581.000000</td>\n",
       "    </tr>\n",
       "    <tr>\n",
       "      <th>75%</th>\n",
       "      <td>34.000000</td>\n",
       "      <td>21.000000</td>\n",
       "      <td>6.800000</td>\n",
       "      <td>3.310000</td>\n",
       "      <td>2562.000000</td>\n",
       "      <td>2460.000000</td>\n",
       "      <td>1375.000000</td>\n",
       "      <td>901.000000</td>\n",
       "      <td>2006.000000</td>\n",
       "      <td>0.457000</td>\n",
       "      <td>...</td>\n",
       "      <td>491.000000</td>\n",
       "      <td>695.000000</td>\n",
       "      <td>0.732000</td>\n",
       "      <td>370.000000</td>\n",
       "      <td>1238.000000</td>\n",
       "      <td>484.000000</td>\n",
       "      <td>229.000000</td>\n",
       "      <td>134.000000</td>\n",
       "      <td>456.000000</td>\n",
       "      <td>625.000000</td>\n",
       "    </tr>\n",
       "    <tr>\n",
       "      <th>max</th>\n",
       "      <td>40.000000</td>\n",
       "      <td>35.000000</td>\n",
       "      <td>27.790000</td>\n",
       "      <td>12.790000</td>\n",
       "      <td>3243.000000</td>\n",
       "      <td>3036.000000</td>\n",
       "      <td>1615.000000</td>\n",
       "      <td>1177.000000</td>\n",
       "      <td>2439.000000</td>\n",
       "      <td>0.526000</td>\n",
       "      <td>...</td>\n",
       "      <td>660.000000</td>\n",
       "      <td>1018.000000</td>\n",
       "      <td>0.810000</td>\n",
       "      <td>519.000000</td>\n",
       "      <td>1589.000000</td>\n",
       "      <td>715.000000</td>\n",
       "      <td>369.000000</td>\n",
       "      <td>257.000000</td>\n",
       "      <td>604.000000</td>\n",
       "      <td>790.000000</td>\n",
       "    </tr>\n",
       "  </tbody>\n",
       "</table>\n",
       "<p>8 rows × 23 columns</p>\n",
       "</div>"
      ],
      "text/plain": [
       "                G           W         SRS         SOS          Tm.  \\\n",
       "count  353.000000  353.000000  353.000000  353.000000   353.000000   \n",
       "mean    33.008499   17.118980   -0.591501   -0.267507  2400.121813   \n",
       "std      1.993580    6.364631   10.320548    5.761562   260.169578   \n",
       "min     28.000000    3.000000  -26.820000  -11.240000  1742.000000   \n",
       "25%     32.000000   12.000000   -8.100000   -4.690000  2216.000000   \n",
       "50%     33.000000   17.000000   -2.040000   -1.240000  2385.000000   \n",
       "75%     34.000000   21.000000    6.800000    3.310000  2562.000000   \n",
       "max     40.000000   35.000000   27.790000   12.790000  3243.000000   \n",
       "\n",
       "              Opp.           MP           FG          FGA         FG%  ...  \\\n",
       "count   353.000000   353.000000   353.000000   353.000000  353.000000  ...   \n",
       "mean   2356.668555  1331.798867   848.872521  1914.107649    0.442997  ...   \n",
       "std     167.525950    80.789477    93.759625   158.127411    0.024408  ...   \n",
       "min    1951.000000  1135.000000   598.000000  1442.000000    0.354000  ...   \n",
       "25%    2243.000000  1280.000000   787.000000  1803.000000    0.428000  ...   \n",
       "50%    2354.000000  1325.000000   845.000000  1906.000000    0.443000  ...   \n",
       "75%    2460.000000  1375.000000   901.000000  2006.000000    0.457000  ...   \n",
       "max    3036.000000  1615.000000  1177.000000  2439.000000    0.526000  ...   \n",
       "\n",
       "               FT          FTA         FT%         ORB          TRB  \\\n",
       "count  353.000000   353.000000  353.000000  353.000000   353.000000   \n",
       "mean   446.410765   632.008499    0.706269  329.402266  1169.535411   \n",
       "std     76.118654   103.658105    0.036296   61.538303   121.884607   \n",
       "min    235.000000   377.000000    0.584000  167.000000   845.000000   \n",
       "25%    395.000000   564.000000    0.682000  285.000000  1085.000000   \n",
       "50%    446.000000   628.000000    0.705000  324.000000  1163.000000   \n",
       "75%    491.000000   695.000000    0.732000  370.000000  1238.000000   \n",
       "max    660.000000  1018.000000    0.810000  519.000000  1589.000000   \n",
       "\n",
       "              AST         STL         BLK         TOV          PF  \n",
       "count  353.000000  353.000000  353.000000  353.000000  353.000000  \n",
       "mean   443.090652  208.937677  110.410765  426.515581  586.087819  \n",
       "std     70.400056   42.418124   33.619167   48.874671   60.263255  \n",
       "min    288.000000  116.000000   46.000000  304.000000  455.000000  \n",
       "25%    394.000000  180.000000   85.000000  394.000000  544.000000  \n",
       "50%    440.000000  207.000000  107.000000  423.000000  581.000000  \n",
       "75%    484.000000  229.000000  134.000000  456.000000  625.000000  \n",
       "max    715.000000  369.000000  257.000000  604.000000  790.000000  \n",
       "\n",
       "[8 rows x 23 columns]"
      ]
     },
     "execution_count": 4,
     "metadata": {},
     "output_type": "execute_result"
    }
   ],
   "source": [
    "X.describe()"
   ]
  },
  {
   "cell_type": "code",
   "execution_count": 5,
   "metadata": {},
   "outputs": [],
   "source": [
    "X.drop([\"School\"], axis=1, inplace=True)\n",
    "y = X.pop(\"W\")"
   ]
  },
  {
   "cell_type": "code",
   "execution_count": 6,
   "metadata": {},
   "outputs": [],
   "source": [
    "X_train, X_test, y_train, y_test = train_test_split(X, y, test_size=.2)"
   ]
  },
  {
   "cell_type": "code",
   "execution_count": 9,
   "metadata": {},
   "outputs": [
    {
     "name": "stdout",
     "output_type": "stream",
     "text": [
      "R^2: 0.7951955553833436\n"
     ]
    }
   ],
   "source": [
    "model = RandomForestRegressor()\n",
    "model.fit(X_train, y_train)\n",
    "print (\"R^2:\", model.score(X_test, y_test)) "
   ]
  },
  {
   "cell_type": "code",
   "execution_count": 10,
   "metadata": {},
   "outputs": [
    {
     "name": "stdout",
     "output_type": "stream",
     "text": [
      "1.31 s ± 5.19 ms per loop (mean ± std. dev. of 7 runs, 1 loop each)\n"
     ]
    }
   ],
   "source": [
    "%%timeit\n",
    "model = RandomForestRegressor(500, n_jobs = 1)\n",
    "model.fit(X_train, y_train)"
   ]
  },
  {
   "cell_type": "code",
   "execution_count": 11,
   "metadata": {},
   "outputs": [
    {
     "name": "stdout",
     "output_type": "stream",
     "text": [
      "947 ms ± 44.9 ms per loop (mean ± std. dev. of 7 runs, 1 loop each)\n"
     ]
    }
   ],
   "source": [
    "%%timeit\n",
    "model = RandomForestRegressor(500, n_jobs = -1)\n",
    "model.fit(X_train, y_train)"
   ]
  },
  {
   "cell_type": "code",
   "execution_count": 12,
   "metadata": {},
   "outputs": [
    {
     "name": "stdout",
     "output_type": "stream",
     "text": [
      "25 trees\n",
      "R^2: 0.8026801570572433\n",
      "\n",
      "50 trees\n",
      "R^2: 0.7966797106840257\n",
      "\n",
      "100 trees\n",
      "R^2: 0.8019456907418888\n",
      "\n",
      "200 trees\n",
      "R^2: 0.7962809409227113\n",
      "\n",
      "500 trees\n",
      "R^2: 0.8025531420334779\n",
      "\n",
      "750 trees\n",
      "R^2: 0.8023996732290877\n",
      "\n",
      "1000 trees\n",
      "R^2: 0.8027497906850589\n",
      "\n"
     ]
    },
    {
     "data": {
      "image/png": "[encoded data removed]",
      "text/plain": [
       "<Figure size 432x288 with 1 Axes>"
      ]
     },
     "metadata": {
      "needs_background": "light"
     },
     "output_type": "display_data"
    }
   ],
   "source": [
    "results = []\n",
    "n_estimator_options = [25, 50, 100, 200, 500, 750, 1000]\n",
    "\n",
    "for trees in n_estimator_options:\n",
    "    model = RandomForestRegressor(trees, n_jobs = -1)\n",
    "    model.fit(X_train, y_train)\n",
    "    print (trees, \"trees\")\n",
    "    r2 = model.score(X_test, y_test)\n",
    "    print (\"R^2:\", r2)\n",
    "    results.append(r2)\n",
    "    print (\"\")\n",
    "pd.Series(results, n_estimator_options).plot();"
   ]
  },
  {
   "cell_type": "code",
   "execution_count": 13,
   "metadata": {},
   "outputs": [
    {
     "name": "stdout",
     "output_type": "stream",
     "text": [
      "auto option\n",
      "R^2: 0.8023304640834883\n",
      "\n",
      "None option\n",
      "R^2: 0.805228262543914\n",
      "\n",
      "sqrt option\n",
      "R^2: 0.7563745953089482\n",
      "\n",
      "log2 option\n",
      "R^2: 0.7612252726854721\n",
      "\n",
      "0.5 option\n",
      "R^2: 0.7913164185162224\n",
      "\n",
      "0.6 option\n",
      "R^2: 0.7983161055228353\n",
      "\n",
      "0.7 option\n",
      "R^2: 0.798844815628229\n",
      "\n",
      "0.8 option\n",
      "R^2: 0.7985894914703451\n",
      "\n",
      "0.9 option\n",
      "R^2: 0.7982661986412481\n",
      "\n",
      "2 option\n",
      "R^2: 0.7443805028776607\n",
      "\n"
     ]
    },
    {
     "data": {
      "image/png": "[encoded data removed]",
      "text/plain": [
       "<Figure size 432x288 with 1 Axes>"
      ]
     },
     "metadata": {
      "needs_background": "light"
     },
     "output_type": "display_data"
    }
   ],
   "source": [
    "results = []\n",
    "max_features_options = [\"auto\", None, \"sqrt\", \"log2\", 0.5, 0.6, 0.7, 0.8, .9, 2]\n",
    "\n",
    "for max_features in max_features_options:\n",
    "    model = RandomForestRegressor(n_estimators = 1000, n_jobs = -1, max_features = max_features)\n",
    "    model.fit(X_train, y_train)\n",
    "    print (max_features, \"option\")\n",
    "    r2 = model.score(X_test, y_test)\n",
    "    print (\"R^2:\", r2)\n",
    "    results.append(r2)\n",
    "    print (\"\")\n",
    "pd.Series(results, max_features_options).plot(kind = \"barh\", xlim = (.85,.93));"
   ]
  },
  {
   "cell_type": "code",
   "execution_count": 14,
   "metadata": {},
   "outputs": [
    {
     "name": "stdout",
     "output_type": "stream",
     "text": [
      "1 min samples\n",
      "R^2: 0.8052005327082041\n",
      "\n",
      "2 min samples\n",
      "R^2: 0.7993650541278765\n",
      "\n",
      "3 min samples\n",
      "R^2: 0.8004003439670475\n",
      "\n",
      "4 min samples\n",
      "R^2: 0.7929188468435483\n",
      "\n",
      "5 min samples\n",
      "R^2: 0.7892990411241233\n",
      "\n",
      "6 min samples\n",
      "R^2: 0.7816544177198315\n",
      "\n",
      "7 min samples\n",
      "R^2: 0.7774555697848251\n",
      "\n",
      "8 min samples\n",
      "R^2: 0.768000519879602\n",
      "\n",
      "9 min samples\n",
      "R^2: 0.7602649169840285\n",
      "\n",
      "10 min samples\n",
      "R^2: 0.754932068919323\n",
      "\n"
     ]
    },
    {
     "data": {
      "image/png": "[encoded data removed]",
      "text/plain": [
       "<Figure size 432x288 with 1 Axes>"
      ]
     },
     "metadata": {
      "needs_background": "light"
     },
     "output_type": "display_data"
    }
   ],
   "source": [
    "results = []\n",
    "min_samples_leaf_options = [1, 2, 3, 4, 5, 6, 7, 8, 9, 10]\n",
    "\n",
    "for min_samples in min_samples_leaf_options:\n",
    "    model = RandomForestRegressor(n_estimators = 1000, n_jobs = -1, max_features = None, \n",
    "                                  min_samples_leaf = min_samples)\n",
    "    model.fit(X_train, y_train)\n",
    "    print (min_samples, \"min samples\")\n",
    "    r2 = model.score(X_test, y_test)\n",
    "    print (\"R^2:\", r2)\n",
    "    results.append(r2)\n",
    "    print (\"\")\n",
    "pd.Series(results, min_samples_leaf_options).plot();"
   ]
  },
  {
   "cell_type": "code",
   "execution_count": 18,
   "metadata": {},
   "outputs": [],
   "source": [
    "model = RandomForestRegressor(n_estimators = 1000, n_jobs = -1, max_features = None, \n",
    "                                  min_samples_leaf = 1)\n",
    "from sklearn.model_selection import cross_val_score\n",
    "scores = cross_val_score(model, X, y, cv = 10)"
   ]
  },
  {
   "cell_type": "code",
   "execution_count": 19,
   "metadata": {},
   "outputs": [
    {
     "data": {
      "text/plain": [
       "array([0.76543812, 0.78102566, 0.89245386, 0.82625826, 0.89871194,\n",
       "       0.86492941, 0.75878876, 0.81807902, 0.88023422, 0.79328966])"
      ]
     },
     "execution_count": 19,
     "metadata": {},
     "output_type": "execute_result"
    }
   ],
   "source": [
    "scores"
   ]
  },
  {
   "cell_type": "code",
   "execution_count": 20,
   "metadata": {},
   "outputs": [
    {
     "name": "stdout",
     "output_type": "stream",
     "text": [
      "Score is 0.827921 +/-  0.036095\n",
      "Thus, there is a 95 percent probability that if this experiment were repeated, the average score would be between 0.791825 and 0.864016\n"
     ]
    }
   ],
   "source": [
    "mean = scores.mean()\n",
    "std_dev = scores.std()\n",
    "std_error = scores.std() / math.sqrt(scores.shape[0])\n",
    "confInterval =  2.262 * std_error\n",
    "lowerBound = mean - confInterval\n",
    "upperBound = mean + confInterval\n",
    "\n",
    "print (\"Score is %f +/-  %f\" % (mean, confInterval))\n",
    "print ('Thus, there is a 95 percent probability that if this experiment were repeated, the average score would be between %f and %f' % (lowerBound, upperBound))"
   ]
  },
  {
   "cell_type": "code",
   "execution_count": 21,
   "metadata": {},
   "outputs": [
    {
     "data": {
      "text/plain": [
       "RandomForestRegressor(max_features=None, n_estimators=1000, n_jobs=-1)"
      ]
     },
     "execution_count": 21,
     "metadata": {},
     "output_type": "execute_result"
    }
   ],
   "source": [
    "model = RandomForestRegressor(n_estimators = 1000, n_jobs = -1, max_features = None, \n",
    "                                  min_samples_leaf = 1)\n",
    "model.fit(X_train, y_train)"
   ]
  },
  {
   "cell_type": "code",
   "execution_count": 22,
   "metadata": {},
   "outputs": [],
   "source": [
    "predicted_probs = model.predict(X)"
   ]
  },
  {
   "cell_type": "code",
   "execution_count": 23,
   "metadata": {},
   "outputs": [],
   "source": [
    "numpy.savetxt(\"results.csv\", predicted_probs, fmt='%.2f', delimiter = \",\")"
   ]
  },
  {
   "cell_type": "code",
   "execution_count": null,
   "metadata": {},
   "outputs": [],
   "source": []
  }
 ],
 "metadata": {
  "kernelspec": {
   "display_name": "Python 3",
   "language": "python",
   "name": "python3"
  },
  "language_info": {
   "codemirror_mode": {
    "name": "ipython",
    "version": 3
   },
   "file_extension": ".py",
   "mimetype": "text/x-python",
   "name": "python",
   "nbconvert_exporter": "python",
   "pygments_lexer": "ipython3",
   "version": "3.8.3"
  }
 },
 "nbformat": 4,
 "nbformat_minor": 4
}
